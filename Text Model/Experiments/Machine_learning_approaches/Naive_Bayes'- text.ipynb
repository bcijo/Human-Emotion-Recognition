{
 "cells": [
  {
   "cell_type": "code",
   "execution_count": 27,
   "id": "256a677b",
   "metadata": {},
   "outputs": [],
   "source": [
    "import pandas as pd\n",
    "import numpy as np\n",
    "import matplotlib.pyplot as plt\n",
    "import seaborn as sns"
   ]
  },
  {
   "cell_type": "code",
   "execution_count": 28,
   "id": "d2e6b7d7",
   "metadata": {},
   "outputs": [
    {
     "name": "stderr",
     "output_type": "stream",
     "text": [
      "[nltk_data] Downloading package omw-1.4 to\n",
      "[nltk_data]     C:\\Users\\abhin\\AppData\\Roaming\\nltk_data...\n",
      "[nltk_data]   Package omw-1.4 is already up-to-date!\n"
     ]
    }
   ],
   "source": [
    "import nltk\n",
    "nltk.download('omw-1.4')\n",
    "import re\n",
    "from nltk.corpus import stopwords\n",
    "from nltk.stem import WordNetLemmatizer\n",
    "from nltk.stem import PorterStemmer\n",
    "from sklearn.feature_extraction.text import CountVectorizer\n",
    "from sklearn.feature_extraction.text import TfidfVectorizer\n",
    "from sklearn.naive_bayes import MultinomialNB\n",
    "from sklearn.model_selection import train_test_split"
   ]
  },
  {
   "cell_type": "code",
   "execution_count": 29,
   "id": "921f696e",
   "metadata": {},
   "outputs": [],
   "source": [
    "df = pd.read_csv(r\"D:\\abhin\\CLG\\Assignments\\IT\\4th sem\\DS\\Emotion_recognition\\Code files\\Text_dataset\\data.csv\")"
   ]
  },
  {
   "cell_type": "code",
   "execution_count": 30,
   "id": "5636b7c1",
   "metadata": {},
   "outputs": [],
   "source": [
    "df = df[df['Label'] != 2]"
   ]
  },
  {
   "cell_type": "code",
   "execution_count": 31,
   "id": "70952131",
   "metadata": {},
   "outputs": [],
   "source": [
    "df['Label'] = df['Label'].map({0:0, 1:1, 3:2, 4:3, 5:4})"
   ]
  },
  {
   "cell_type": "code",
   "execution_count": 32,
   "id": "4cea224e",
   "metadata": {},
   "outputs": [],
   "source": [
    "df.reset_index(drop=True, inplace=True)"
   ]
  },
  {
   "cell_type": "code",
   "execution_count": 33,
   "id": "ee4a32aa",
   "metadata": {},
   "outputs": [
    {
     "data": {
      "text/html": [
       "<div>\n",
       "<style scoped>\n",
       "    .dataframe tbody tr th:only-of-type {\n",
       "        vertical-align: middle;\n",
       "    }\n",
       "\n",
       "    .dataframe tbody tr th {\n",
       "        vertical-align: top;\n",
       "    }\n",
       "\n",
       "    .dataframe thead th {\n",
       "        text-align: right;\n",
       "    }\n",
       "</style>\n",
       "<table border=\"1\" class=\"dataframe\">\n",
       "  <thead>\n",
       "    <tr style=\"text-align: right;\">\n",
       "      <th></th>\n",
       "      <th>Text</th>\n",
       "      <th>Label</th>\n",
       "    </tr>\n",
       "  </thead>\n",
       "  <tbody>\n",
       "    <tr>\n",
       "      <th>0</th>\n",
       "      <td>i feel awful about it too because it s my job ...</td>\n",
       "      <td>0</td>\n",
       "    </tr>\n",
       "    <tr>\n",
       "      <th>1</th>\n",
       "      <td>im alone i feel awful</td>\n",
       "      <td>0</td>\n",
       "    </tr>\n",
       "    <tr>\n",
       "      <th>2</th>\n",
       "      <td>ive probably mentioned this before but i reall...</td>\n",
       "      <td>1</td>\n",
       "    </tr>\n",
       "    <tr>\n",
       "      <th>3</th>\n",
       "      <td>i was feeling a little low few days back</td>\n",
       "      <td>0</td>\n",
       "    </tr>\n",
       "    <tr>\n",
       "      <th>4</th>\n",
       "      <td>i am one of those people who feels like going ...</td>\n",
       "      <td>1</td>\n",
       "    </tr>\n",
       "    <tr>\n",
       "      <th>...</th>\n",
       "      <td>...</td>\n",
       "      <td>...</td>\n",
       "    </tr>\n",
       "    <tr>\n",
       "      <th>382250</th>\n",
       "      <td>that was what i felt when i was finally accept...</td>\n",
       "      <td>1</td>\n",
       "    </tr>\n",
       "    <tr>\n",
       "      <th>382251</th>\n",
       "      <td>i take every day as it comes i m just focussin...</td>\n",
       "      <td>3</td>\n",
       "    </tr>\n",
       "    <tr>\n",
       "      <th>382252</th>\n",
       "      <td>i just suddenly feel that everything was fake</td>\n",
       "      <td>0</td>\n",
       "    </tr>\n",
       "    <tr>\n",
       "      <th>382253</th>\n",
       "      <td>im feeling more eager than ever to claw back w...</td>\n",
       "      <td>1</td>\n",
       "    </tr>\n",
       "    <tr>\n",
       "      <th>382254</th>\n",
       "      <td>i give you plenty of attention even when i fee...</td>\n",
       "      <td>0</td>\n",
       "    </tr>\n",
       "  </tbody>\n",
       "</table>\n",
       "<p>382255 rows × 2 columns</p>\n",
       "</div>"
      ],
      "text/plain": [
       "                                                     Text  Label\n",
       "0       i feel awful about it too because it s my job ...      0\n",
       "1                                   im alone i feel awful      0\n",
       "2       ive probably mentioned this before but i reall...      1\n",
       "3                i was feeling a little low few days back      0\n",
       "4       i am one of those people who feels like going ...      1\n",
       "...                                                   ...    ...\n",
       "382250  that was what i felt when i was finally accept...      1\n",
       "382251  i take every day as it comes i m just focussin...      3\n",
       "382252      i just suddenly feel that everything was fake      0\n",
       "382253  im feeling more eager than ever to claw back w...      1\n",
       "382254  i give you plenty of attention even when i fee...      0\n",
       "\n",
       "[382255 rows x 2 columns]"
      ]
     },
     "execution_count": 33,
     "metadata": {},
     "output_type": "execute_result"
    }
   ],
   "source": [
    "df"
   ]
  },
  {
   "cell_type": "code",
   "execution_count": 34,
   "id": "190a93c4",
   "metadata": {},
   "outputs": [
    {
     "data": {
      "text/plain": [
       "joy         141067\n",
       "sadness     121187\n",
       "anger        57317\n",
       "fear         47712\n",
       "surprise     14972\n",
       "Name: Label_name, dtype: int64"
      ]
     },
     "execution_count": 34,
     "metadata": {},
     "output_type": "execute_result"
    }
   ],
   "source": [
    "df['Label_name'] = df['Label'].map({0:'sadness', 1:'joy', 2:'anger', 3:'fear', 4:'surprise'})\n",
    "counts = df['Label_name'].value_counts()\n",
    "counts"
   ]
  },
  {
   "cell_type": "code",
   "execution_count": 35,
   "id": "0f43d558",
   "metadata": {
    "scrolled": true
   },
   "outputs": [
    {
     "data": {
      "text/plain": [
       "Text(0.5, 1.0, 'Classes and their counts')"
      ]
     },
     "execution_count": 35,
     "metadata": {},
     "output_type": "execute_result"
    },
    {
     "data": {
      "image/png": "[encoded data removed]",
      "text/plain": [
       "<Figure size 640x480 with 1 Axes>"
      ]
     },
     "metadata": {},
     "output_type": "display_data"
    }
   ],
   "source": [
    "order = ['joy', 'sadness', 'anger', 'fear', 'surprise']\n",
    "sns.countplot(df, x='Label_name',order=order)\n",
    "plt.title('Classes and their counts')"
   ]
  },
  {
   "cell_type": "code",
   "execution_count": 36,
   "id": "50219b74",
   "metadata": {},
   "outputs": [],
   "source": [
    "df['word_count'] = df['Text'].apply(lambda x : len(str(x).split()))"
   ]
  },
  {
   "cell_type": "code",
   "execution_count": 37,
   "id": "00466098",
   "metadata": {},
   "outputs": [
    {
     "data": {
      "text/plain": [
       "Text(0.5, 1.0, 'Word Count vs Classes')"
      ]
     },
     "execution_count": 37,
     "metadata": {},
     "output_type": "execute_result"
    },
    {
     "data": {
      "image/png": "[encoded data removed]",
      "text/plain": [
       "<Figure size 640x480 with 1 Axes>"
      ]
     },
     "metadata": {},
     "output_type": "display_data"
    }
   ],
   "source": [
    "sns.boxplot(x=\"Label_name\", y=\"word_count\", data=df)\n",
    "plt.title('Word Count vs Classes')"
   ]
  },
  {
   "cell_type": "code",
   "execution_count": 38,
   "id": "56b24a1e",
   "metadata": {},
   "outputs": [
    {
     "data": {
      "text/plain": [
       "<Axes: >"
      ]
     },
     "execution_count": 38,
     "metadata": {},
     "output_type": "execute_result"
    },
    {
     "data": {
      "image/png": "[encoded data removed]",
      "text/plain": [
       "<Figure size 640x480 with 1 Axes>"
      ]
     },
     "metadata": {},
     "output_type": "display_data"
    }
   ],
   "source": [
    "counts.plot(kind='bar')"
   ]
  },
  {
   "cell_type": "code",
   "execution_count": 39,
   "id": "89ef4d36",
   "metadata": {},
   "outputs": [],
   "source": [
    "train_split = int(len(df) * 0.8)\n",
    "val_split = int(len(df) * 0.9)"
   ]
  },
  {
   "cell_type": "code",
   "execution_count": 40,
   "id": "05c95cdb",
   "metadata": {},
   "outputs": [],
   "source": [
    "emotion_train = df[:train_split]\n",
    "# emotion_valid = df[train_split:val_split]\n",
    "emotion_test = df[train_split:]"
   ]
  },
  {
   "cell_type": "code",
   "execution_count": 41,
   "id": "c1c5b835",
   "metadata": {},
   "outputs": [
    {
     "name": "stderr",
     "output_type": "stream",
     "text": [
      "C:\\Users\\abhin\\AppData\\Local\\Temp\\ipykernel_8504\\4000732481.py:1: SettingWithCopyWarning: \n",
      "A value is trying to be set on a copy of a slice from a DataFrame.\n",
      "Try using .loc[row_indexer,col_indexer] = value instead\n",
      "\n",
      "See the caveats in the documentation: https://pandas.pydata.org/pandas-docs/stable/user_guide/indexing.html#returning-a-view-versus-a-copy\n",
      "  emotion_train['text_length'] = emotion_train['Text'].astype(str).apply(len)\n"
     ]
    },
    {
     "data": {
      "text/html": [
       "<div>\n",
       "<style scoped>\n",
       "    .dataframe tbody tr th:only-of-type {\n",
       "        vertical-align: middle;\n",
       "    }\n",
       "\n",
       "    .dataframe tbody tr th {\n",
       "        vertical-align: top;\n",
       "    }\n",
       "\n",
       "    .dataframe thead th {\n",
       "        text-align: right;\n",
       "    }\n",
       "</style>\n",
       "<table border=\"1\" class=\"dataframe\">\n",
       "  <thead>\n",
       "    <tr style=\"text-align: right;\">\n",
       "      <th></th>\n",
       "      <th>Text</th>\n",
       "      <th>Label</th>\n",
       "      <th>Label_name</th>\n",
       "      <th>word_count</th>\n",
       "      <th>text_length</th>\n",
       "    </tr>\n",
       "  </thead>\n",
       "  <tbody>\n",
       "    <tr>\n",
       "      <th>0</th>\n",
       "      <td>i feel awful about it too because it s my job ...</td>\n",
       "      <td>0</td>\n",
       "      <td>sadness</td>\n",
       "      <td>26</td>\n",
       "      <td>112</td>\n",
       "    </tr>\n",
       "    <tr>\n",
       "      <th>1</th>\n",
       "      <td>im alone i feel awful</td>\n",
       "      <td>0</td>\n",
       "      <td>sadness</td>\n",
       "      <td>5</td>\n",
       "      <td>21</td>\n",
       "    </tr>\n",
       "    <tr>\n",
       "      <th>2</th>\n",
       "      <td>ive probably mentioned this before but i reall...</td>\n",
       "      <td>1</td>\n",
       "      <td>joy</td>\n",
       "      <td>27</td>\n",
       "      <td>152</td>\n",
       "    </tr>\n",
       "    <tr>\n",
       "      <th>3</th>\n",
       "      <td>i was feeling a little low few days back</td>\n",
       "      <td>0</td>\n",
       "      <td>sadness</td>\n",
       "      <td>9</td>\n",
       "      <td>40</td>\n",
       "    </tr>\n",
       "    <tr>\n",
       "      <th>4</th>\n",
       "      <td>i am one of those people who feels like going ...</td>\n",
       "      <td>1</td>\n",
       "      <td>joy</td>\n",
       "      <td>26</td>\n",
       "      <td>115</td>\n",
       "    </tr>\n",
       "    <tr>\n",
       "      <th>...</th>\n",
       "      <td>...</td>\n",
       "      <td>...</td>\n",
       "      <td>...</td>\n",
       "      <td>...</td>\n",
       "      <td>...</td>\n",
       "    </tr>\n",
       "    <tr>\n",
       "      <th>305799</th>\n",
       "      <td>i allow her to share special moments with a gr...</td>\n",
       "      <td>2</td>\n",
       "      <td>anger</td>\n",
       "      <td>17</td>\n",
       "      <td>102</td>\n",
       "    </tr>\n",
       "    <tr>\n",
       "      <th>305800</th>\n",
       "      <td>i feel called to this work and because i am pa...</td>\n",
       "      <td>1</td>\n",
       "      <td>joy</td>\n",
       "      <td>27</td>\n",
       "      <td>145</td>\n",
       "    </tr>\n",
       "    <tr>\n",
       "      <th>305801</th>\n",
       "      <td>i feel anger when you describe to me in detail...</td>\n",
       "      <td>0</td>\n",
       "      <td>sadness</td>\n",
       "      <td>25</td>\n",
       "      <td>108</td>\n",
       "    </tr>\n",
       "    <tr>\n",
       "      <th>305802</th>\n",
       "      <td>i guess but i feel so stupid for being lured i...</td>\n",
       "      <td>0</td>\n",
       "      <td>sadness</td>\n",
       "      <td>43</td>\n",
       "      <td>201</td>\n",
       "    </tr>\n",
       "    <tr>\n",
       "      <th>305803</th>\n",
       "      <td>im doing and i answer truthfully that its been...</td>\n",
       "      <td>4</td>\n",
       "      <td>surprise</td>\n",
       "      <td>58</td>\n",
       "      <td>290</td>\n",
       "    </tr>\n",
       "  </tbody>\n",
       "</table>\n",
       "<p>305804 rows × 5 columns</p>\n",
       "</div>"
      ],
      "text/plain": [
       "                                                     Text  Label Label_name  \\\n",
       "0       i feel awful about it too because it s my job ...      0    sadness   \n",
       "1                                   im alone i feel awful      0    sadness   \n",
       "2       ive probably mentioned this before but i reall...      1        joy   \n",
       "3                i was feeling a little low few days back      0    sadness   \n",
       "4       i am one of those people who feels like going ...      1        joy   \n",
       "...                                                   ...    ...        ...   \n",
       "305799  i allow her to share special moments with a gr...      2      anger   \n",
       "305800  i feel called to this work and because i am pa...      1        joy   \n",
       "305801  i feel anger when you describe to me in detail...      0    sadness   \n",
       "305802  i guess but i feel so stupid for being lured i...      0    sadness   \n",
       "305803  im doing and i answer truthfully that its been...      4   surprise   \n",
       "\n",
       "        word_count  text_length  \n",
       "0               26          112  \n",
       "1                5           21  \n",
       "2               27          152  \n",
       "3                9           40  \n",
       "4               26          115  \n",
       "...            ...          ...  \n",
       "305799          17          102  \n",
       "305800          27          145  \n",
       "305801          25          108  \n",
       "305802          43          201  \n",
       "305803          58          290  \n",
       "\n",
       "[305804 rows x 5 columns]"
      ]
     },
     "execution_count": 41,
     "metadata": {},
     "output_type": "execute_result"
    }
   ],
   "source": [
    "emotion_train['text_length'] = emotion_train['Text'].astype(str).apply(len)\n",
    "emotion_train"
   ]
  },
  {
   "cell_type": "code",
   "execution_count": 42,
   "id": "dc62aecc",
   "metadata": {},
   "outputs": [
    {
     "name": "stderr",
     "output_type": "stream",
     "text": [
      "C:\\Users\\abhin\\AppData\\Local\\Temp\\ipykernel_8504\\1254477894.py:1: UserWarning: \n",
      "\n",
      "`distplot` is a deprecated function and will be removed in seaborn v0.14.0.\n",
      "\n",
      "Please adapt your code to use either `displot` (a figure-level function with\n",
      "similar flexibility) or `histplot` (an axes-level function for histograms).\n",
      "\n",
      "For a guide to updating your code to use the new functions, please see\n",
      "https://gist.github.com/mwaskom/de44147ed2974457ad6372750bbe5751\n",
      "\n",
      "  sns.distplot(emotion_train['text_length'], bins=50)\n"
     ]
    },
    {
     "data": {
      "text/plain": [
       "Text(0.5, 0, 'Text Length')"
      ]
     },
     "execution_count": 42,
     "metadata": {},
     "output_type": "execute_result"
    },
    {
     "data": {
      "image/png": "[encoded data removed]",
      "text/plain": [
       "<Figure size 640x480 with 1 Axes>"
      ]
     },
     "metadata": {},
     "output_type": "display_data"
    }
   ],
   "source": [
    "sns.distplot(emotion_train['text_length'], bins=50)\n",
    "plt.xlim([0, 512]);\n",
    "plt.xlabel('Text Length')"
   ]
  },
  {
   "cell_type": "code",
   "execution_count": 43,
   "id": "a017d537",
   "metadata": {},
   "outputs": [],
   "source": [
    "x_train = emotion_train['Text']\n",
    "# x_valid = emotion_valid['Text']\n",
    "x_test = emotion_test['Text']"
   ]
  },
  {
   "cell_type": "code",
   "execution_count": 44,
   "id": "4b983823",
   "metadata": {},
   "outputs": [],
   "source": [
    "cv = CountVectorizer(max_features = 10000)\n",
    "X_train = cv.fit_transform(x_train)\n",
    "y_train = emotion_train['Label']"
   ]
  },
  {
   "cell_type": "code",
   "execution_count": 45,
   "id": "57827842",
   "metadata": {},
   "outputs": [],
   "source": [
    "# X_valid = cv.transform(x_valid)\n",
    "# y_valid = emotion_valid['Label']"
   ]
  },
  {
   "cell_type": "code",
   "execution_count": 46,
   "id": "8fce1713",
   "metadata": {},
   "outputs": [],
   "source": [
    "X_test = cv.transform(x_test)\n",
    "y_test = emotion_test['Label']"
   ]
  },
  {
   "cell_type": "code",
   "execution_count": 47,
   "id": "2d2dac59",
   "metadata": {},
   "outputs": [
    {
     "data": {
      "text/plain": [
       "(305804, 10000)"
      ]
     },
     "execution_count": 47,
     "metadata": {},
     "output_type": "execute_result"
    }
   ],
   "source": [
    "X_train.shape"
   ]
  },
  {
   "cell_type": "code",
   "execution_count": 48,
   "id": "a87d4ec5",
   "metadata": {},
   "outputs": [
    {
     "data": {
      "text/html": [
       "<style>#sk-container-id-1 {color: black;background-color: white;}#sk-container-id-1 pre{padding: 0;}#sk-container-id-1 div.sk-toggleable {background-color: white;}#sk-container-id-1 label.sk-toggleable__label {cursor: pointer;display: block;width: 100%;margin-bottom: 0;padding: 0.3em;box-sizing: border-box;text-align: center;}#sk-container-id-1 label.sk-toggleable__label-arrow:before {content: \"▸\";float: left;margin-right: 0.25em;color: #696969;}#sk-container-id-1 label.sk-toggleable__label-arrow:hover:before {color: black;}#sk-container-id-1 div.sk-estimator:hover label.sk-toggleable__label-arrow:before {color: black;}#sk-container-id-1 div.sk-toggleable__content {max-height: 0;max-width: 0;overflow: hidden;text-align: left;background-color: #f0f8ff;}#sk-container-id-1 div.sk-toggleable__content pre {margin: 0.2em;color: black;border-radius: 0.25em;background-color: #f0f8ff;}#sk-container-id-1 input.sk-toggleable__control:checked~div.sk-toggleable__content {max-height: 200px;max-width: 100%;overflow: auto;}#sk-container-id-1 input.sk-toggleable__control:checked~label.sk-toggleable__label-arrow:before {content: \"▾\";}#sk-container-id-1 div.sk-estimator input.sk-toggleable__control:checked~label.sk-toggleable__label {background-color: #d4ebff;}#sk-container-id-1 div.sk-label input.sk-toggleable__control:checked~label.sk-toggleable__label {background-color: #d4ebff;}#sk-container-id-1 input.sk-hidden--visually {border: 0;clip: rect(1px 1px 1px 1px);clip: rect(1px, 1px, 1px, 1px);height: 1px;margin: -1px;overflow: hidden;padding: 0;position: absolute;width: 1px;}#sk-container-id-1 div.sk-estimator {font-family: monospace;background-color: #f0f8ff;border: 1px dotted black;border-radius: 0.25em;box-sizing: border-box;margin-bottom: 0.5em;}#sk-container-id-1 div.sk-estimator:hover {background-color: #d4ebff;}#sk-container-id-1 div.sk-parallel-item::after {content: \"\";width: 100%;border-bottom: 1px solid gray;flex-grow: 1;}#sk-container-id-1 div.sk-label:hover label.sk-toggleable__label {background-color: #d4ebff;}#sk-container-id-1 div.sk-serial::before {content: \"\";position: absolute;border-left: 1px solid gray;box-sizing: border-box;top: 0;bottom: 0;left: 50%;z-index: 0;}#sk-container-id-1 div.sk-serial {display: flex;flex-direction: column;align-items: center;background-color: white;padding-right: 0.2em;padding-left: 0.2em;position: relative;}#sk-container-id-1 div.sk-item {position: relative;z-index: 1;}#sk-container-id-1 div.sk-parallel {display: flex;align-items: stretch;justify-content: center;background-color: white;position: relative;}#sk-container-id-1 div.sk-item::before, #sk-container-id-1 div.sk-parallel-item::before {content: \"\";position: absolute;border-left: 1px solid gray;box-sizing: border-box;top: 0;bottom: 0;left: 50%;z-index: -1;}#sk-container-id-1 div.sk-parallel-item {display: flex;flex-direction: column;z-index: 1;position: relative;background-color: white;}#sk-container-id-1 div.sk-parallel-item:first-child::after {align-self: flex-end;width: 50%;}#sk-container-id-1 div.sk-parallel-item:last-child::after {align-self: flex-start;width: 50%;}#sk-container-id-1 div.sk-parallel-item:only-child::after {width: 0;}#sk-container-id-1 div.sk-dashed-wrapped {border: 1px dashed gray;margin: 0 0.4em 0.5em 0.4em;box-sizing: border-box;padding-bottom: 0.4em;background-color: white;}#sk-container-id-1 div.sk-label label {font-family: monospace;font-weight: bold;display: inline-block;line-height: 1.2em;}#sk-container-id-1 div.sk-label-container {text-align: center;}#sk-container-id-1 div.sk-container {/* jupyter's `normalize.less` sets `[hidden] { display: none; }` but bootstrap.min.css set `[hidden] { display: none !important; }` so we also need the `!important` here to be able to override the default hidden behavior on the sphinx rendered scikit-learn.org. See: https://github.com/scikit-learn/scikit-learn/issues/21755 */display: inline-block !important;position: relative;}#sk-container-id-1 div.sk-text-repr-fallback {display: none;}</style><div id=\"sk-container-id-1\" class=\"sk-top-container\"><div class=\"sk-text-repr-fallback\"><pre>MultinomialNB()</pre><b>In a Jupyter environment, please rerun this cell to show the HTML representation or trust the notebook. <br />On GitHub, the HTML representation is unable to render, please try loading this page with nbviewer.org.</b></div><div class=\"sk-container\" hidden><div class=\"sk-item\"><div class=\"sk-estimator sk-toggleable\"><input class=\"sk-toggleable__control sk-hidden--visually\" id=\"sk-estimator-id-1\" type=\"checkbox\" checked><label for=\"sk-estimator-id-1\" class=\"sk-toggleable__label sk-toggleable__label-arrow\">MultinomialNB</label><div class=\"sk-toggleable__content\"><pre>MultinomialNB()</pre></div></div></div></div></div>"
      ],
      "text/plain": [
       "MultinomialNB()"
      ]
     },
     "execution_count": 48,
     "metadata": {},
     "output_type": "execute_result"
    }
   ],
   "source": [
    "mnb = MultinomialNB()\n",
    "mnb.fit(X_train, y_train)"
   ]
  },
  {
   "cell_type": "code",
   "execution_count": 49,
   "id": "52a533c4",
   "metadata": {},
   "outputs": [],
   "source": [
    "y_pred = mnb.predict(X_test)"
   ]
  },
  {
   "cell_type": "code",
   "execution_count": 50,
   "id": "0ed4891a",
   "metadata": {},
   "outputs": [
    {
     "name": "stdout",
     "output_type": "stream",
     "text": [
      "[[22563   657   501   420    84]\n",
      " [  753 26865   231   276   152]\n",
      " [  645   321 10084   342    29]\n",
      " [  532   243   363  7987   414]\n",
      " [   79   345    35   471  2059]]\n",
      "\n",
      "              precision    recall  f1-score   support\n",
      "\n",
      "           0       0.92      0.93      0.92     24225\n",
      "           1       0.94      0.95      0.95     28277\n",
      "           2       0.90      0.88      0.89     11421\n",
      "           3       0.84      0.84      0.84      9539\n",
      "           4       0.75      0.69      0.72      2989\n",
      "\n",
      "    accuracy                           0.91     76451\n",
      "   macro avg       0.87      0.86      0.86     76451\n",
      "weighted avg       0.91      0.91      0.91     76451\n",
      "\n"
     ]
    }
   ],
   "source": [
    "from sklearn.metrics import classification_report, confusion_matrix\n",
    "\n",
    "print(confusion_matrix(y_test, y_pred))\n",
    "print()\n",
    "print(classification_report(y_test, y_pred))"
   ]
  },
  {
   "cell_type": "code",
   "execution_count": 51,
   "id": "24368bb2",
   "metadata": {},
   "outputs": [
    {
     "name": "stdout",
     "output_type": "stream",
     "text": [
      "[[ 91274   2083   1859   1471    275]\n",
      " [  2834 107445    896   1025    590]\n",
      " [  2327   1093  41220   1168     88]\n",
      " [  1816    764   1214  32892   1487]\n",
      " [   242    929     84   1510   9218]]\n",
      "\n",
      "              precision    recall  f1-score   support\n",
      "\n",
      "           0       0.93      0.94      0.93     96962\n",
      "           1       0.96      0.95      0.95    112790\n",
      "           2       0.91      0.90      0.90     45896\n",
      "           3       0.86      0.86      0.86     38173\n",
      "           4       0.79      0.77      0.78     11983\n",
      "\n",
      "    accuracy                           0.92    305804\n",
      "   macro avg       0.89      0.88      0.89    305804\n",
      "weighted avg       0.92      0.92      0.92    305804\n",
      "\n"
     ]
    }
   ],
   "source": [
    "y_train_pred = mnb.predict(X_train)\n",
    "\n",
    "print(confusion_matrix(y_train, y_train_pred))\n",
    "print()\n",
    "print(classification_report(y_train, y_train_pred))"
   ]
  },
  {
   "cell_type": "code",
   "execution_count": null,
   "id": "c952aaf3",
   "metadata": {},
   "outputs": [],
   "source": []
  }
 ],
 "metadata": {
  "kernelspec": {
   "display_name": "Python 3 (ipykernel)",
   "language": "python",
   "name": "python3"
  },
  "language_info": {
   "codemirror_mode": {
    "name": "ipython",
    "version": 3
   },
   "file_extension": ".py",
   "mimetype": "text/x-python",
   "name": "python",
   "nbconvert_exporter": "python",
   "pygments_lexer": "ipython3",
   "version": "3.10.9"
  }
 },
 "nbformat": 4,
 "nbformat_minor": 5
}
